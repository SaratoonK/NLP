{
 "cells": [
  {
   "attachments": {},
   "cell_type": "markdown",
   "metadata": {},
   "source": [
    "# Natural Language Processing\n",
    "\n",
    "## NER using AllenNLP\n",
    "\n",
    "The problem statement of NER is as follows:\n",
    "\n",
    "Given \n",
    "\n",
    "    Bill Gates and Paul Allen, founders of Microsoft, started selling software in 1975 in New Mexico.\n",
    "\n",
    "We want to get\n",
    "\n",
    "    [Bill Gates PER] and [Paul Allen PER], founders of [Microsoft ORG], started selling software in [1975 DATE] in [New Mexico LOC].\n",
    "\n",
    "To do this, there are two steps:\n",
    "\n",
    "- First, as a segmentation task, where we attempt to find and classify segments that match entities, and assign some NULL or O label to the in-between stuff. Thus, our label space would be {PER, ORG, DATE, LOC, O}.\n",
    "- Second, as a token-level tagging task. This one requires a bit more thought — it’s not clear from the start how we associate entities with each other. But if you introduce a slightly modified label space, you can reconstruct the entities.\n",
    "\n",
    "To do this, each entity type (e.g. PER, LOC) gets split into two labels: B-PER, denoting “this is a new person entity” and I-PER, denoting, “I’m continuing the previous person entity”. On the above sentence, every token would be tagged like so:\n",
    "\n",
    "    [Bill B-PER] [Gates I-PER] and [Paul B-PER] [Allen I-PER], founders of [Microsoft B-ORG], started selling software in [1975 B-DATE] in [New B-LOC] [Mexico I-LOC].\n",
    "\n",
    "For brevity’s sake, I left out all the [and O] tags, but you can imagine that all the rest of the words in the sentence are assigned that null tag.\n",
    "\n",
    "\n",
    "### 1. Building the Dataset Reader\n",
    "\n",
    "Let’s take a look at an example from the CoNLL’03 dataset and see if they conform to the specification we laid down above:\n",
    "\n",
    "    Essex NNP I-NP I-ORG\n",
    "    , , O O\n",
    "    however RB I-ADVP O\n",
    "    , , O O\n",
    "    look VB I-VP O\n",
    "    certain JJ I-ADJP O\n",
    "    to TO I-VP O\n",
    "    regain VB I-VP O\n",
    "    their PRP$ I-NP O\n",
    "    .\n",
    "    .\n",
    "\n",
    "The shared task of CoNLL-2003 concerns language-independent named entity recognition. The CoNLL-2003 shared task data files contain four columns separated by a single space. Each word has been put on a separate line and there is an empty line after each sentence. The first item on each line is a word, the second a part-of-speech (POS) tag, the third a syntactic chunk tag and the fourth the named entity tag. Thus we only care about the first and last item.\n",
    "\n",
    "The chunk tags and the named entity tags have the format I-TYPE which means that the word is inside a phrase of type TYPE. Only if two phrases of the same type immediately follow each other, the first word of the second phrase will have tag B-TYPE to show that it starts a new phrase. A word with tag O is not part of a phrase.\n",
    "\n",
    "To download the dataset, run in your terminal:\n",
    "\n",
    "    curl -o train.txt https://raw.githubusercontent.com/synalp/NER/master/corpus/CoNLL-2003/eng.train\n",
    "    curl -o validation.txt https://raw.githubusercontent.com/synalp/NER/master/corpus/CoNLL-2003/eng.testa\n",
    "    curl -o test.txt https://raw.githubusercontent.com/synalp/NER/master/corpus/CoNLL-2003/eng.testb"
   ]
  },
  {
   "cell_type": "code",
   "execution_count": null,
   "metadata": {},
   "outputs": [],
   "source": []
  }
 ],
 "metadata": {
  "kernelspec": {
   "display_name": "Python 3",
   "language": "python",
   "name": "python3"
  },
  "language_info": {
   "name": "python",
   "version": "3.8.6 (default, Nov 17 2020, 08:01:36) \n[Clang 12.0.0 (clang-1200.0.32.21)]"
  },
  "orig_nbformat": 4,
  "vscode": {
   "interpreter": {
    "hash": "714d3f4db9a58ba7d2f2a9a4fffe577af3df8551aebd380095064812e2e0a6a4"
   }
  }
 },
 "nbformat": 4,
 "nbformat_minor": 2
}
