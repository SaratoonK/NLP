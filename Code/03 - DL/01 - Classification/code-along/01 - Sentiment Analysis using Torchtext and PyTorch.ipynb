{
 "cells": [
  {
   "attachments": {},
   "cell_type": "markdown",
   "metadata": {},
   "source": [
    "# Sentiment Analysis using Pytorch and Torchtext\n",
    "\n",
    "- bidirectional LSTM on some news\n",
    "- some labeled data on news....\n",
    "\n",
    "- Torchtext to help us numericalize and load some data\n",
    "- Torchtext is backed by PyTorch....so naturally torchtext is quite good\n",
    "- Torchtext is not meant to replace spacy....spacy is still like better in general\n",
    "  \n",
    "- PyTorch to help us make some neural network"
   ]
  },
  {
   "cell_type": "markdown",
   "metadata": {},
   "source": []
  }
 ],
 "metadata": {
  "language_info": {
   "name": "python"
  },
  "orig_nbformat": 4
 },
 "nbformat": 4,
 "nbformat_minor": 2
}
