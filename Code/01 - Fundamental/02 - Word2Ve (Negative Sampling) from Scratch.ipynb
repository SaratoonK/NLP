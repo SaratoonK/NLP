{
  "cells": [
    {
      "attachments": {},
      "cell_type": "markdown",
      "metadata": {},
      "source": [
        "# Natural Language Processing\n",
        "\n",
        "## Word2Vec (Negative Sampling)\n",
        "\n",
        "Let's work on negative-sampling based implementation of word2vec."
      ]
    },
    {
      "cell_type": "code",
      "execution_count": 1,
      "metadata": {},
      "outputs": [],
      "source": [
        "import numpy as np\n",
        "import torch\n",
        "import torch.nn as nn\n",
        "import torch.optim as optim\n",
        "import matplotlib.pyplot as plt"
      ]
    },
    {
      "attachments": {},
      "cell_type": "markdown",
      "metadata": {},
      "source": [
        "## 1. Define some very simple data for understanding"
      ]
    },
    {
      "cell_type": "code",
      "execution_count": 2,
      "metadata": {},
      "outputs": [],
      "source": [
        "sentences = [\"apple banana ice\", \"banana orange fruit\", \"orange ice fruit\", \"orange grapes fruit\", \"banana ice fruit\", \"grapes fruit ice\",\n",
        "                 \"dog cat animal\", \"cat monkey animal\", \"monkey dog animal\", \"conda dog animal\", \"monkey dog conda\", \"monkey conda animal\"]"
      ]
    },
    {
      "cell_type": "code",
      "execution_count": 3,
      "metadata": {},
      "outputs": [
        {
          "name": "stdout",
          "output_type": "stream",
          "text": [
            "['apple', 'banana', 'ice', 'banana', 'orange', 'fruit', 'orange', 'ice', 'fruit', 'orange', 'grapes', 'fruit', 'banana', 'ice', 'fruit', 'grapes', 'fruit', 'ice', 'dog', 'cat', 'animal', 'cat', 'monkey', 'animal', 'monkey', 'dog', 'animal', 'conda', 'dog', 'animal', 'monkey', 'dog', 'conda', 'monkey', 'conda', 'animal']\n"
          ]
        }
      ],
      "source": [
        "#get word sequences\n",
        "word_sequence = \" \".join(sentences).split()\n",
        "print(word_sequence)"
      ]
    },
    {
      "cell_type": "code",
      "execution_count": 4,
      "metadata": {},
      "outputs": [
        {
          "name": "stdout",
          "output_type": "stream",
          "text": [
            "['animal', 'monkey', 'grapes', 'conda', 'orange', 'cat', 'fruit', 'banana', 'apple', 'ice', 'dog']\n"
          ]
        }
      ],
      "source": [
        "#get unique words\n",
        "word_list = \" \".join(sentences).split()\n",
        "word_list = list(set(word_list))\n",
        "print(word_list)   "
      ]
    },
    {
      "cell_type": "code",
      "execution_count": 5,
      "metadata": {},
      "outputs": [
        {
          "name": "stdout",
          "output_type": "stream",
          "text": [
            "{'animal': 0, 'monkey': 1, 'grapes': 2, 'conda': 3, 'orange': 4, 'cat': 5, 'fruit': 6, 'banana': 7, 'apple': 8, 'ice': 9, 'dog': 10}\n"
          ]
        }
      ],
      "source": [
        "#numericalization\n",
        "word_dict = {w: i for i, w in enumerate(word_list)}\n",
        "print(word_dict)"
      ]
    },
    {
      "cell_type": "code",
      "execution_count": 6,
      "metadata": {},
      "outputs": [
        {
          "name": "stdout",
          "output_type": "stream",
          "text": [
            "11\n"
          ]
        }
      ],
      "source": [
        "#vocab size\n",
        "voc_size = len(word_list)\n",
        "print(voc_size)"
      ]
    },
    {
      "cell_type": "code",
      "execution_count": 7,
      "metadata": {},
      "outputs": [
        {
          "data": {
            "text/plain": [
              "'fruit'"
            ]
          },
          "execution_count": 7,
          "metadata": {},
          "output_type": "execute_result"
        }
      ],
      "source": [
        "word_sequence[16]"
      ]
    },
    {
      "attachments": {},
      "cell_type": "markdown",
      "metadata": {},
      "source": [
        "## 2. Make our skipgram batch loader"
      ]
    },
    {
      "cell_type": "code",
      "execution_count": 8,
      "metadata": {},
      "outputs": [],
      "source": [
        "def random_batch(batch_size, word_sequence):\n",
        "    \n",
        "    # Make skip gram of one size window\n",
        "    skip_grams = []\n",
        "    # loop each word sequence\n",
        "    # we starts from 1 because 0 has no context\n",
        "    # we stop at second last for the same reason\n",
        "    for i in range(1, len(word_sequence) - 1):\n",
        "        target = word_dict[word_sequence[i]]  #banana is 6 so return 6        \n",
        "        context = [word_dict[word_sequence[i - 1]], word_dict[word_sequence[i + 1]]] #left of banana is apple; right is fruit, so context is [4, 2]\n",
        "        for w in context:\n",
        "            skip_grams.append([target, w]) #e.g., [6, 4], [6, 2], so on... (target, context)\n",
        "    \n",
        "    random_inputs = []\n",
        "    random_labels = []\n",
        "    random_index = np.random.choice(range(len(skip_grams)), batch_size, replace=False) #randomly pick without replacement\n",
        "    \n",
        "    #make input and labels as one-hot encoding\n",
        "    #we cannot train using taking integer as input...\n",
        "    for i in random_index:\n",
        "        random_inputs.append(np.eye(voc_size)[skip_grams[i][0]])  # target,e g., [0, 0, 0, 0, 0, 1, 0, 0]\n",
        "        random_labels.append(skip_grams[i][1])  # context word, e.g., 3\n",
        "\n",
        "    return np.array(random_inputs), np.array(random_labels)"
      ]
    },
    {
      "cell_type": "markdown",
      "metadata": {},
      "source": [
        "### Testing the method"
      ]
    },
    {
      "cell_type": "code",
      "execution_count": 9,
      "metadata": {},
      "outputs": [
        {
          "name": "stdout",
          "output_type": "stream",
          "text": [
            "Input:  [[0. 0. 0. 0. 1. 0. 0. 0. 0. 0. 0.]\n",
            " [0. 0. 0. 0. 0. 0. 0. 0. 0. 1. 0.]]\n",
            "Target:  [2 6]\n"
          ]
        }
      ],
      "source": [
        "#testing the method\n",
        "batch_size = 2 # mini-batch size\n",
        "input_batch, target_batch = random_batch(batch_size, word_sequence)\n",
        "\n",
        "print(\"Input: \", input_batch)\n",
        "print(\"Target: \", target_batch)\n",
        "\n",
        "#we will convert them to tensor during training, so don't worry..."
      ]
    },
    {
      "cell_type": "markdown",
      "metadata": {},
      "source": [
        "## 3. Model"
      ]
    },
    {
      "cell_type": "code",
      "execution_count": 10,
      "metadata": {},
      "outputs": [],
      "source": [
        "class Word2Vec(nn.Module):\n",
        "    def __init__(self, embedding_size):\n",
        "        super(Word2Vec, self).__init__()\n",
        "        # W and WT is not Traspose relationship\n",
        "        self.W = nn.Linear(voc_size, embedding_size, bias=False) # voc_size > embedding_size Weight\n",
        "        self.WT = nn.Linear(embedding_size, voc_size, bias=False) # embedding_size > voc_size Weight\n",
        "\n",
        "    def forward(self, X):\n",
        "        # X : [batch_size, voc_size]\n",
        "        hidden_layer = self.W(X) # hidden_layer : [batch_size, embedding_size]\n",
        "        output_layer = self.WT(hidden_layer) # output_layer : [batch_size, voc_size]\n",
        "        return output_layer"
      ]
    },
    {
      "cell_type": "markdown",
      "metadata": {},
      "source": [
        "## 4. Training"
      ]
    },
    {
      "cell_type": "code",
      "execution_count": 11,
      "metadata": {},
      "outputs": [],
      "source": [
        "embedding_size = 2 #so we can later plot\n",
        "model = Word2Vec(embedding_size)\n",
        "\n",
        "criterion = nn.CrossEntropyLoss()\n",
        "optimizer = optim.Adam(model.parameters(), lr=0.001)"
      ]
    },
    {
      "cell_type": "code",
      "execution_count": 12,
      "metadata": {},
      "outputs": [
        {
          "name": "stdout",
          "output_type": "stream",
          "text": [
            "Epoch: 1000 cost = 2.395988\n",
            "Epoch: 2000 cost = 1.763380\n",
            "Epoch: 3000 cost = 1.707680\n",
            "Epoch: 4000 cost = 1.245237\n",
            "Epoch: 5000 cost = 1.815973\n"
          ]
        }
      ],
      "source": [
        "# Training\n",
        "num_epochs = 5000\n",
        "for epoch in range(num_epochs):\n",
        "    input_batch, target_batch = random_batch(batch_size, word_sequence)\n",
        "    input_batch = torch.Tensor(input_batch)\n",
        "    target_batch = torch.LongTensor(target_batch)\n",
        "\n",
        "    optimizer.zero_grad()\n",
        "    output = model(input_batch)\n",
        "\n",
        "    # output : [batch_size, voc_size], target_batch : [batch_size] (LongTensor, not one-hot)\n",
        "    loss = criterion(output, target_batch)\n",
        "    if (epoch + 1) % 1000 == 0:\n",
        "        print('Epoch:', '%04d' % (epoch + 1), 'cost =', '{:.6f}'.format(loss))\n",
        "\n",
        "    loss.backward()\n",
        "    optimizer.step()"
      ]
    },
    {
      "cell_type": "markdown",
      "metadata": {},
      "source": [
        "## 5. Plotting the embeddings"
      ]
    },
    {
      "cell_type": "code",
      "execution_count": 13,
      "metadata": {},
      "outputs": [
        {
          "data": {
            "text/plain": [
              "torch.Size([2, 11])"
            ]
          },
          "execution_count": 13,
          "metadata": {},
          "output_type": "execute_result"
        }
      ],
      "source": [
        "W, WT = model.parameters()\n",
        "W.shape #embedding (x, y), vocab (unique vocabs)"
      ]
    },
    {
      "cell_type": "code",
      "execution_count": 14,
      "metadata": {},
      "outputs": [
        {
          "data": {
            "text/plain": [
              "-0.39345237612724304"
            ]
          },
          "execution_count": 14,
          "metadata": {},
          "output_type": "execute_result"
        }
      ],
      "source": [
        "#x embedding of the first vocab\n",
        "W[0][1].item()"
      ]
    },
    {
      "cell_type": "code",
      "execution_count": 15,
      "metadata": {},
      "outputs": [
        {
          "data": {
            "text/plain": [
              "1.3749170303344727"
            ]
          },
          "execution_count": 15,
          "metadata": {},
          "output_type": "execute_result"
        }
      ],
      "source": [
        "#y embedding of the first vocab\n",
        "W[1][1].item()"
      ]
    },
    {
      "cell_type": "code",
      "execution_count": 16,
      "metadata": {},
      "outputs": [
        {
          "data": {
            "image/png": "[encoded data removed]",
            "text/plain": [
              "<Figure size 432x216 with 1 Axes>"
            ]
          },
          "metadata": {
            "needs_background": "light"
          },
          "output_type": "display_data"
        }
      ],
      "source": [
        "plt.figure(figsize=(6,3))\n",
        "for i, label in enumerate(word_list): #loop each unique vocab\n",
        "    W, WT = model.parameters()\n",
        "    x, y = W[0][i].item(), W[1][i].item()\n",
        "    plt.scatter(x, y)\n",
        "    plt.annotate(label, xy=(x, y), xytext=(5, 2), textcoords='offset points')\n",
        "plt.show()"
      ]
    },
    {
      "attachments": {},
      "cell_type": "markdown",
      "metadata": {},
      "source": [
        "### 6. Cosine similarity\n",
        "\n",
        "Formally the [Cosine Similarity](https://en.wikipedia.org/wiki/Cosine_similarity) $s$ between two vectors $p$ and $q$ is defined as:\n",
        "\n",
        "$$s = \\frac{p \\cdot q}{||p|| ||q||}, \\textrm{ where } s \\in [-1, 1] $$ \n",
        "\n",
        "If $p$ and $q$ is super similar, the result is 1 otherwise 0."
      ]
    },
    {
      "cell_type": "code",
      "execution_count": 17,
      "metadata": {},
      "outputs": [
        {
          "data": {
            "text/plain": [
              "['animal',\n",
              " 'monkey',\n",
              " 'grapes',\n",
              " 'conda',\n",
              " 'orange',\n",
              " 'cat',\n",
              " 'fruit',\n",
              " 'banana',\n",
              " 'apple',\n",
              " 'ice',\n",
              " 'dog']"
            ]
          },
          "execution_count": 17,
          "metadata": {},
          "output_type": "execute_result"
        }
      ],
      "source": [
        "word_list"
      ]
    },
    {
      "cell_type": "code",
      "execution_count": 18,
      "metadata": {},
      "outputs": [],
      "source": [
        "#let's try similarity between first and second, and second and third\n",
        "\n",
        "#embedding = x, y, vocab = 0\n",
        "first      = [W[0][0].item(), W[1][0].item()]\n",
        "second     = [W[0][1].item(), W[1][1].item()]\n",
        "third      = [W[0][2].item(), W[1][2].item()]"
      ]
    },
    {
      "cell_type": "code",
      "execution_count": 19,
      "metadata": {},
      "outputs": [
        {
          "name": "stdout",
          "output_type": "stream",
          "text": [
            "animal vs. monkey:  0.9907741916907582\n",
            "animal vs. grapes: -0.8447612339937328\n",
            "animal vs. animal:  1.0\n"
          ]
        }
      ],
      "source": [
        "#numpy version\n",
        "from numpy import dot\n",
        "from numpy.linalg import norm\n",
        "\n",
        "def cos_sim(a, b):\n",
        "    cos_sim = dot(a, b)/(norm(a)*norm(b))\n",
        "    return cos_sim\n",
        "    \n",
        "print(f\"{word_list[0]} vs. {word_list[1]}: \",   cos_sim(first, second))\n",
        "print(f\"{word_list[0]} vs. {word_list[2]}:\",    cos_sim(second, third))\n",
        "print(f\"{word_list[0]} vs. {word_list[0]}: \",   cos_sim(first, first))"
      ]
    },
    {
      "cell_type": "code",
      "execution_count": 20,
      "metadata": {},
      "outputs": [
        {
          "name": "stdout",
          "output_type": "stream",
          "text": [
            "animal vs. monkey:  0.9907741916907584\n",
            "animal vs. grapes: -0.8447612339937329\n",
            "animal vs. animal:  1\n"
          ]
        }
      ],
      "source": [
        "#scipy version\n",
        "from scipy import spatial\n",
        "\n",
        "def cos_sim(a, b):\n",
        "    cos_sim = 1 - spatial.distance.cosine(a, b)  #distance = 1 - similarlity, because scipy only gives distance\n",
        "    return cos_sim\n",
        "\n",
        "print(f\"{word_list[0]} vs. {word_list[1]}: \",   cos_sim(first, second))\n",
        "print(f\"{word_list[0]} vs. {word_list[2]}:\",    cos_sim(second, third))\n",
        "print(f\"{word_list[0]} vs. {word_list[0]}: \",   cos_sim(first, first))"
      ]
    }
  ],
  "metadata": {
    "anaconda-cloud": {},
    "kernelspec": {
      "display_name": "Python 3",
      "language": "python",
      "name": "python3"
    },
    "language_info": {
      "codemirror_mode": {
        "name": "ipython",
        "version": 3
      },
      "file_extension": ".py",
      "mimetype": "text/x-python",
      "name": "python",
      "nbconvert_exporter": "python",
      "pygments_lexer": "ipython3",
      "version": "3.8.6 (default, Nov 17 2020, 08:01:36) \n[Clang 12.0.0 (clang-1200.0.32.21)]"
    },
    "vscode": {
      "interpreter": {
        "hash": "714d3f4db9a58ba7d2f2a9a4fffe577af3df8551aebd380095064812e2e0a6a4"
      }
    }
  },
  "nbformat": 4,
  "nbformat_minor": 4
}
