{
 "cells": [
  {
   "attachments": {},
   "cell_type": "markdown",
   "metadata": {},
   "source": [
    "# Window NER\n",
    "\n",
    "Today we gonna work on simple window NER that no one uses....but it's a good starting point.\n",
    "\n",
    "Later on, once you learned LSTM, I will teach a better one for NER."
   ]
  },
  {
   "cell_type": "markdown",
   "metadata": {},
   "source": [
    "## 1. Load data\n",
    "\n",
    "Load the famous CoNLL-2002 Shared Task"
   ]
  },
  {
   "cell_type": "code",
   "execution_count": null,
   "metadata": {},
   "outputs": [],
   "source": [
    "# !pip install nltk  #or do it in your terminal"
   ]
  },
  {
   "cell_type": "code",
   "execution_count": 1,
   "metadata": {},
   "outputs": [
    {
     "data": {
      "text/plain": [
       "'3.8'"
      ]
     },
     "execution_count": 1,
     "metadata": {},
     "output_type": "execute_result"
    }
   ],
   "source": [
    "import nltk\n",
    "nltk.__version__"
   ]
  },
  {
   "cell_type": "code",
   "execution_count": 2,
   "metadata": {},
   "outputs": [
    {
     "name": "stderr",
     "output_type": "stream",
     "text": [
      "[nltk_data] Downloading package conll2002 to\n",
      "[nltk_data]     /Users/chaklam/nltk_data...\n",
      "[nltk_data]   Package conll2002 is already up-to-date!\n"
     ]
    },
    {
     "data": {
      "text/plain": [
       "True"
      ]
     },
     "execution_count": 2,
     "metadata": {},
     "output_type": "execute_result"
    }
   ],
   "source": [
    "# import os\n",
    "# os.environ['http_proxy']  = 'http://192.41.170.23:3128'\n",
    "# os.environ['https_proxy'] = 'http://192.41.170.23:3128'\n",
    "\n",
    "nltk.download('conll2002')  #this will download the dataset, and put it somewhere in your pc"
   ]
  },
  {
   "cell_type": "code",
   "execution_count": 3,
   "metadata": {},
   "outputs": [],
   "source": [
    "corpus = nltk.corpus.conll2002.iob_sents()"
   ]
  },
  {
   "cell_type": "code",
   "execution_count": 6,
   "metadata": {},
   "outputs": [],
   "source": [
    "data = []\n",
    "for cor in corpus:\n",
    "    #extract only the first and third guy\n",
    "    #one list containing the first, and one list containing the third\n",
    "    #so we can use it to train\n",
    "    #['Sao', 'Paulo', '(', 'Brasil'.....)],  ['B-LOC', 'I-LOC', 'B-LOC', '0']\n",
    "    sent, _, tag = list(zip(*cor))\n",
    "    data.append([sent, tag])"
   ]
  },
  {
   "cell_type": "code",
   "execution_count": 9,
   "metadata": {},
   "outputs": [
    {
     "data": {
      "text/plain": [
       "[('ERC',\n",
       "  'CONVOCA',\n",
       "  'CONFERENCIA',\n",
       "  'PRESENTARSE',\n",
       "  'COMO',\n",
       "  'PARTIDO',\n",
       "  'DE',\n",
       "  'GOBIERNO',\n",
       "  'Barcelona',\n",
       "  '.'),\n",
       " ('B-ORG', 'O', 'O', 'O', 'O', 'O', 'O', 'B-ORG', 'B-LOC', 'O')]"
      ]
     },
     "execution_count": 9,
     "metadata": {},
     "output_type": "execute_result"
    }
   ],
   "source": [
    "data[9999]"
   ]
  },
  {
   "cell_type": "code",
   "execution_count": 8,
   "metadata": {},
   "outputs": [
    {
     "data": {
      "text/plain": [
       "35651"
      ]
     },
     "execution_count": 8,
     "metadata": {},
     "output_type": "execute_result"
    }
   ],
   "source": [
    "len(data) #35k sentences....."
   ]
  },
  {
   "attachments": {},
   "cell_type": "markdown",
   "metadata": {},
   "source": [
    "## 2. Tokenization\n",
    "\n",
    "If you look carefully, we don't need to!! Yay...things are already chopped."
   ]
  },
  {
   "attachments": {},
   "cell_type": "markdown",
   "metadata": {},
   "source": [
    "## 3. Numericalization"
   ]
  },
  {
   "cell_type": "code",
   "execution_count": 10,
   "metadata": {},
   "outputs": [],
   "source": [
    "flatten = lambda l: [item for sublist in l for item in sublist]\n",
    "\n",
    "#I want to get all unique vocabs....\n",
    "sents, tags = list(zip(*data))\n",
    "vocab  = list(set(flatten(sents)))\n",
    "tagset = list(set(flatten(tags)))\n",
    "\n",
    "#why we don't combine vocab and tagset into one single list....."
   ]
  },
  {
   "cell_type": "code",
   "execution_count": 11,
   "metadata": {},
   "outputs": [
    {
     "data": {
      "text/plain": [
       "['Renaat',\n",
       " 'profundidad',\n",
       " 'dusver',\n",
       " 'chiefs',\n",
       " 'aanvatten',\n",
       " 'fakkeldrager',\n",
       " 'variedades',\n",
       " 'completamos',\n",
       " 'ES']"
      ]
     },
     "execution_count": 11,
     "metadata": {},
     "output_type": "execute_result"
    }
   ],
   "source": [
    "vocab[89:98]"
   ]
  },
  {
   "cell_type": "code",
   "execution_count": 12,
   "metadata": {},
   "outputs": [
    {
     "data": {
      "text/plain": [
       "65459"
      ]
     },
     "execution_count": 12,
     "metadata": {},
     "output_type": "execute_result"
    }
   ],
   "source": [
    "len(vocab)"
   ]
  },
  {
   "cell_type": "code",
   "execution_count": 13,
   "metadata": {},
   "outputs": [
    {
     "data": {
      "text/plain": [
       "['O', 'B-ORG', 'B-MISC', 'I-MISC', 'B-PER', 'I-ORG', 'B-LOC', 'I-LOC', 'I-PER']"
      ]
     },
     "execution_count": 13,
     "metadata": {},
     "output_type": "execute_result"
    }
   ],
   "source": [
    "tagset"
   ]
  },
  {
   "cell_type": "code",
   "execution_count": 14,
   "metadata": {},
   "outputs": [],
   "source": [
    "#create word2index library\n",
    "word2index={'<UNK>': 0, '<DUMMY>': 1}  #DUMMY facilitates me moving the windows.....\n",
    "\n",
    "#loop each vocab\n",
    "for v in vocab:\n",
    "    #if that vocab does not exist yet in the word2index\n",
    "    if word2index.get(v) is None:\n",
    "        #the index of this vocab is basically the current len of word2indx\n",
    "        word2index[v] = len(word2index)\n",
    "#create the index2word\n",
    "index2word = {v:k for k, v in word2index.items()}\n",
    "\n",
    "tag2index = {}\n",
    "#do this the same for tagset\n",
    "#loop each vocab\n",
    "for t in tagset:\n",
    "    #if that vocab does not exist yet in the word2index\n",
    "    if tag2index.get(t) is None:\n",
    "        #the index of this vocab is basically the current len of word2indx\n",
    "        tag2index[t] = len(tag2index)\n",
    "#create the index2word\n",
    "index2tag = {v:k for k, v in tag2index.items()}"
   ]
  },
  {
   "cell_type": "code",
   "execution_count": 15,
   "metadata": {},
   "outputs": [
    {
     "data": {
      "text/plain": [
       "{'O': 0,\n",
       " 'B-ORG': 1,\n",
       " 'B-MISC': 2,\n",
       " 'I-MISC': 3,\n",
       " 'B-PER': 4,\n",
       " 'I-ORG': 5,\n",
       " 'B-LOC': 6,\n",
       " 'I-LOC': 7,\n",
       " 'I-PER': 8}"
      ]
     },
     "execution_count": 15,
     "metadata": {},
     "output_type": "execute_result"
    }
   ],
   "source": [
    "tag2index"
   ]
  },
  {
   "cell_type": "code",
   "execution_count": 16,
   "metadata": {},
   "outputs": [
    {
     "data": {
      "text/plain": [
       "{0: 'O',\n",
       " 1: 'B-ORG',\n",
       " 2: 'B-MISC',\n",
       " 3: 'I-MISC',\n",
       " 4: 'B-PER',\n",
       " 5: 'I-ORG',\n",
       " 6: 'B-LOC',\n",
       " 7: 'I-LOC',\n",
       " 8: 'I-PER'}"
      ]
     },
     "execution_count": 16,
     "metadata": {},
     "output_type": "execute_result"
    }
   ],
   "source": [
    "index2tag"
   ]
  },
  {
   "attachments": {},
   "cell_type": "markdown",
   "metadata": {},
   "source": [
    "## 4. Prepare window data\n",
    "\n",
    "E.g., Chaky   is at AIT.   \n",
    "       B-PER   0 0  B-LOC\n",
    "\n",
    "Here I will four samples of data:\n",
    "\n",
    "E.g., windows = [['<DUMMY>', '<DUMMY>', 'Chaky', 'is', 'at'], 'B-PER'], [], []]"
   ]
  },
  {
   "cell_type": "code",
   "execution_count": 23,
   "metadata": {},
   "outputs": [
    {
     "name": "stdout",
     "output_type": "stream",
     "text": [
      "('B-LOC', 'I-LOC', 'O', 'B-LOC', 'O', 'O', 'O', 'O', 'O', 'B-ORG', 'O', 'O')\n"
     ]
    }
   ],
   "source": [
    "for sample in data:\n",
    "    print(sample[1])\n",
    "    break"
   ]
  },
  {
   "cell_type": "code",
   "execution_count": 24,
   "metadata": {},
   "outputs": [],
   "source": [
    "ws = 2\n",
    "windows = []\n",
    "\n",
    "for sample in data:\n",
    "    dummy = ['<DUMMY>'] * ws\n",
    "    text  = sample[0]\n",
    "    fulltext = dummy + list(text) + dummy\n",
    "    window = list(nltk.ngrams(fulltext, ws * 2 + 1))\n",
    "    \n",
    "    windows.extend([[list(window[i]), sample[1][i]] for i in range(len(sample[0]))])   "
   ]
  },
  {
   "cell_type": "code",
   "execution_count": 25,
   "metadata": {},
   "outputs": [
    {
     "data": {
      "text/plain": [
       "[['<DUMMY>', '<DUMMY>', 'Sao', 'Paulo', '('], 'B-LOC']"
      ]
     },
     "execution_count": 25,
     "metadata": {},
     "output_type": "execute_result"
    }
   ],
   "source": [
    "windows[0]"
   ]
  },
  {
   "cell_type": "code",
   "execution_count": 26,
   "metadata": {},
   "outputs": [
    {
     "data": {
      "text/plain": [
       "678377"
      ]
     },
     "execution_count": 26,
     "metadata": {},
     "output_type": "execute_result"
    }
   ],
   "source": [
    "len(windows)"
   ]
  },
  {
   "cell_type": "code",
   "execution_count": 27,
   "metadata": {},
   "outputs": [],
   "source": [
    "windows = windows[:50]"
   ]
  },
  {
   "cell_type": "code",
   "execution_count": 28,
   "metadata": {},
   "outputs": [],
   "source": [
    "import random\n",
    "random.shuffle(windows)\n",
    "\n",
    "train = windows[:int(len(windows) * 0.9)]\n",
    "test  = windows[int(len(windows) * 0.9):]"
   ]
  },
  {
   "cell_type": "code",
   "execution_count": 29,
   "metadata": {},
   "outputs": [
    {
     "data": {
      "text/plain": [
       "(45, 5)"
      ]
     },
     "execution_count": 29,
     "metadata": {},
     "output_type": "execute_result"
    }
   ],
   "source": [
    "len(train), len(test)"
   ]
  },
  {
   "attachments": {},
   "cell_type": "markdown",
   "metadata": {},
   "source": [
    "## 4. Model\n",
    "\n",
    "<img src=\"../figures/ner_model.png\" width=\"600\">\n"
   ]
  },
  {
   "cell_type": "code",
   "execution_count": null,
   "metadata": {},
   "outputs": [],
   "source": [
    "import torch\n",
    "import torch.nn as nn\n",
    "\n",
    "class WinNER(nn.Module):\n",
    "    \n",
    "    def __init__(self):\n",
    "        \n",
    "    def forward(self, inputs):\n",
    "        #inputs = (batch_size, window_size * 2 + 1)\n",
    "        input_embed = \n",
    "        #input_embed = (batch_size, window_size * 2 + 1, emb_size)\n",
    "        \n",
    "        concats  = \n",
    "        #concat everything ==> (batch_size, window_size * 2 + 1 * emb_size)  ===> 5d, e.g., 20\n",
    "        \n",
    "        after_h  = self.h(concats)   #this h is basically a linear layer of some hidden size\n",
    "        #after_h  = (batch_size, hidden_size), e.g., 8\n",
    "    \n",
    "        #apply relu\n",
    "        #apply dropout\n",
    "        \n",
    "        #basically, h2 -> relu -> dropout where h2 project into one number\n",
    "        \n",
    "        return what is return by h2"
   ]
  }
 ],
 "metadata": {
  "kernelspec": {
   "display_name": "dsai",
   "language": "python",
   "name": "python3"
  },
  "language_info": {
   "codemirror_mode": {
    "name": "ipython",
    "version": 3
   },
   "file_extension": ".py",
   "mimetype": "text/x-python",
   "name": "python",
   "nbconvert_exporter": "python",
   "pygments_lexer": "ipython3",
   "version": "3.8.9"
  },
  "orig_nbformat": 4,
  "vscode": {
   "interpreter": {
    "hash": "0f2c79af21be9d001248940c049b6176cf8bfb45cabf7aa85848f5cea0f590f6"
   }
  }
 },
 "nbformat": 4,
 "nbformat_minor": 2
}
