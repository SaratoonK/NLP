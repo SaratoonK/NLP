{
 "cells": [
  {
   "cell_type": "markdown",
   "metadata": {},
   "source": [
    "# Implementing Seq2Seq Models"
   ]
  },
  {
   "cell_type": "raw",
   "metadata": {},
   "source": [
    "- Understanding the differences between seq2seq and fabby way\n",
    "- text summarization\n",
    "- image captioning image2seq\n",
    "\n",
    "Question 1. Normal LSTM Encoder-Decoder\n",
    "Question 2. LSTM Encoder-Decoder with Attention\n",
    "Question 3. Encoder-Decoder with CNN\n",
    "Question 3. Transformer only (attention only)\n",
    "\n",
    "https://github.com/bentrevett/pytorch-seq2seq"
   ]
  },
  {
   "cell_type": "code",
   "execution_count": null,
   "metadata": {},
   "outputs": [],
   "source": []
  }
 ],
 "metadata": {
  "anaconda-cloud": {},
  "kernelspec": {
   "display_name": "Python 3 (ipykernel)",
   "language": "python",
   "name": "python3"
  },
  "language_info": {
   "codemirror_mode": {
    "name": "ipython",
    "version": 3
   },
   "file_extension": ".py",
   "mimetype": "text/x-python",
   "name": "python",
   "nbconvert_exporter": "python",
   "pygments_lexer": "ipython3",
   "version": "3.9.7"
  }
 },
 "nbformat": 4,
 "nbformat_minor": 4
}
